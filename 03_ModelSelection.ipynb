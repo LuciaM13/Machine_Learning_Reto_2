version https://git-lfs.github.com/spec/v1
oid sha256:dc5c50a648f1ec23048595a7ec4ef649a53721e80514fe4f4f7797688faf3365
size 1173950
